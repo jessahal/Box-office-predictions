{
 "cells": [
  {
   "cell_type": "code",
   "execution_count": 1,
   "outputs": [],
   "source": [
    "import pandas as pd\n",
    "import numpy as np\n",
    "import requests\n",
    "import time\n",
    "import re"
   ],
   "metadata": {
    "collapsed": false,
    "ExecuteTime": {
     "end_time": "2024-10-07T13:59:54.359851700Z",
     "start_time": "2024-10-07T13:59:53.867507200Z"
    }
   },
   "id": "54918ed5ea1eda27"
  },
  {
   "cell_type": "markdown",
   "source": [
    "## Getting our API"
   ],
   "metadata": {
    "collapsed": false
   },
   "id": "8566247d09e81311"
  },
  {
   "cell_type": "code",
   "execution_count": 2,
   "id": "initial_id",
   "metadata": {
    "collapsed": true,
    "ExecuteTime": {
     "end_time": "2024-10-07T13:59:54.362132200Z",
     "start_time": "2024-10-07T13:59:54.344474300Z"
    }
   },
   "outputs": [],
   "source": [
    "with open('movie-api.txt', 'r') as file:\n",
    "    apikey = file.read()"
   ]
  },
  {
   "cell_type": "code",
   "execution_count": null,
   "outputs": [],
   "source": [
    "base_url = \"https://api.themoviedb.org/3/movie/\"\n",
    "pop_reviews = \"movie/reviews\"\n",
    "url = f\"{base_url}?api_key={apikey}\"\n",
    "\n",
    "movie_data = []\n",
    "\n",
    "for movie_id in range(1, 5000):  # Adjust this range as needed\n",
    "    # Get movie details\n",
    "    movie_url = f\"{base_url}{movie_id}?api_key={apikey}\"\n",
    "    r = requests.get(movie_url)\n",
    "    \n",
    "    if r.ok:\n",
    "        movie = r.json()\n",
    "        \n",
    "        # Prepare movie details\n",
    "        movie_details = {\n",
    "            'id': movie.get('id'),\n",
    "            'title': movie.get('title'),\n",
    "            'release_date': movie.get('release_date'),\n",
    "            'revenue': movie.get('revenue'),\n",
    "            'budget': movie.get('budget'),\n",
    "            'production_companies': ', '.join([company['name'] for company in movie.get('production_companies', [])]),\n",
    "            'genres': ', '.join([genre['name'] for genre in movie.get('genres', [])]),\n",
    "            'popularity': movie.get('popularity'),\n",
    "            'vote_average': movie.get('vote_average'),\n",
    "            'vote_count': movie.get('vote_count'),\n",
    "            'overview': movie.get('overview')\n",
    "        }\n",
    "\n",
    "        # Get movie reviews\n",
    "        reviews_url = f\"{base_url}{movie_id}/reviews?api_key={apikey}\"\n",
    "        reviews_response = requests.get(reviews_url)\n",
    "        \n",
    "        if reviews_response.ok:\n",
    "            reviews_data = reviews_response.json()\n",
    "            reviews = reviews_data.get('results', [])\n",
    "            \n",
    "            # Get all movie reviews and combine them into one long review\n",
    "            review_texts = [review['content'] for review in reviews]\n",
    "            movie_details['reviews'] = ' '.join(review_texts) if review_texts else 'No reviews available'\n",
    "        else:\n",
    "            movie_details['reviews'] = 'No reviews available'\n",
    "        \n",
    "        movie_data.append(movie_details)\n",
    "    \n",
    "    # Add a delay to prevent overwhelming the API\n",
    "    time.sleep(1)\n",
    "\n",
    "# Convert to data frame\n",
    "movies_df = pd.DataFrame(movie_data)\n",
    "movies_df.head(20)"
   ],
   "metadata": {
    "collapsed": false,
    "is_executing": true,
    "ExecuteTime": {
     "start_time": "2024-10-07T13:59:54.362132200Z"
    }
   },
   "id": "94f9a4a920151510"
  },
  {
   "cell_type": "code",
   "execution_count": null,
   "outputs": [],
   "source": [
    "movies_df.to_csv('movies.csv', index = False)"
   ],
   "metadata": {
    "collapsed": false,
    "is_executing": true
   },
   "id": "839ea2a95d5b1ec7"
  }
 ],
 "metadata": {
  "kernelspec": {
   "display_name": "Python 3",
   "language": "python",
   "name": "python3"
  },
  "language_info": {
   "codemirror_mode": {
    "name": "ipython",
    "version": 2
   },
   "file_extension": ".py",
   "mimetype": "text/x-python",
   "name": "python",
   "nbconvert_exporter": "python",
   "pygments_lexer": "ipython2",
   "version": "2.7.6"
  }
 },
 "nbformat": 4,
 "nbformat_minor": 5
}
