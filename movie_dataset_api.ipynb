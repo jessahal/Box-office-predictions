{
 "cells": [
  {
   "cell_type": "code",
   "execution_count": 1,
   "outputs": [],
   "source": [
    "import pandas as pd\n",
    "import numpy as np\n",
    "import requests\n",
    "import time\n",
    "import re"
   ],
   "metadata": {
    "collapsed": false,
    "ExecuteTime": {
     "end_time": "2024-10-07T16:05:36.334750500Z",
     "start_time": "2024-10-07T16:05:34.314796100Z"
    }
   },
   "id": "54918ed5ea1eda27"
  },
  {
   "cell_type": "markdown",
   "source": [
    "## Getting our API"
   ],
   "metadata": {
    "collapsed": false
   },
   "id": "8566247d09e81311"
  },
  {
   "cell_type": "code",
   "execution_count": 2,
   "id": "initial_id",
   "metadata": {
    "collapsed": true,
    "ExecuteTime": {
     "end_time": "2024-10-07T16:05:36.337451400Z",
     "start_time": "2024-10-07T16:05:36.328734200Z"
    }
   },
   "outputs": [],
   "source": [
    "with open('movie-api.txt', 'r') as file:\n",
    "    apikey = file.read()"
   ]
  },
  {
   "cell_type": "code",
   "execution_count": 3,
   "outputs": [
    {
     "data": {
      "text/plain": "    id                                              title release_date  \\\n0    2                                              Ariel   1988-10-21   \n1    3                                Shadows in Paradise   1986-10-17   \n2    5                                         Four Rooms   1995-12-09   \n3    6                                     Judgment Night   1993-10-15   \n4    8                   Life in Loops (A Megacities RMX)   2006-01-01   \n5    9                                   Sunday in August   2004-09-02   \n6   11                                          Star Wars   1977-05-25   \n7   12                                       Finding Nemo   2003-05-30   \n8   13                                       Forrest Gump   1994-06-23   \n9   14                                    American Beauty   1999-09-15   \n10  15                                       Citizen Kane   1941-04-17   \n11  16                                 Dancer in the Dark   2000-09-01   \n12  17                                           The Dark   2005-09-28   \n13  18                                  The Fifth Element   1997-05-02   \n14  19                                         Metropolis   1927-02-06   \n15  20                                 My Life Without Me   2003-03-07   \n16  21                                 The Endless Summer   1966-06-15   \n17  22  Pirates of the Caribbean: The Curse of the Bla...   2003-07-09   \n18  24                                  Kill Bill: Vol. 1   2003-10-10   \n19  25                                            Jarhead   2005-11-04   \n\n      revenue     budget                               production_companies  \\\n0           0          0                          Villealfa Filmproductions   \n1           0          0                          Villealfa Filmproductions   \n2     4257354    4000000                              Miramax, A Band Apart   \n3    12136938   21000000       Largo Entertainment, JVC, Universal Pictures   \n4           0      42000                                            inLoops   \n5           0          0                                                      \n6   775398007   11000000                   Lucasfilm Ltd., 20th Century Fox   \n7   940335536   94000000                                              Pixar   \n8   677387716   55000000  Paramount Pictures, The Steve Tisch Company, W...   \n9   356296601   15000000           DreamWorks Pictures, Jinks/Cohen Company   \n10   23218000     839727            Mercury Productions, RKO Radio Pictures   \n11   40061153   12500000  Zentropa Entertainments, DR, SVT Drama, ARTE, ...   \n12    6593579          0  Constantin Film, Impact Pictures, Isle of Man ...   \n13  263920180   90000000                         Gaumont, Columbia Pictures   \n14    1350322    5300000                                                UFA   \n15   12300000    2500000                    El Deseo, Milestone Productions   \n16          0      50000                                  Bruce Brown Films   \n17  655011224  140000000      Walt Disney Pictures, Jerry Bruckheimer Films   \n18  180906076   30000000           Miramax, A Band Apart, Super Cool ManChu   \n19   97076152   72000000   Red Wagon Entertainment, Neal Street Productions   \n\n                                               genres  popularity  \\\n0                       Comedy, Drama, Romance, Crime      26.263   \n1                              Comedy, Drama, Romance       6.004   \n2                                              Comedy      15.300   \n3                             Action, Crime, Thriller      22.862   \n4                                         Documentary       2.925   \n5                                               Drama       3.174   \n6                  Adventure, Action, Science Fiction      89.460   \n7                                   Animation, Family     108.046   \n8                              Comedy, Drama, Romance      83.259   \n9                                               Drama      37.161   \n10                                     Mystery, Drama      24.584   \n11                                       Drama, Crime      17.530   \n12                          Horror, Thriller, Mystery      17.766   \n13  Adventure, Fantasy, Action, Thriller, Science ...      89.855   \n14                             Drama, Science Fiction      46.312   \n15                                     Drama, Romance      25.283   \n16                                        Documentary      12.764   \n17                         Adventure, Fantasy, Action     178.927   \n18                                      Action, Crime      47.746   \n19                                         Drama, War      21.214   \n\n    vote_average  vote_count  \\\n0          7.118         331   \n1          7.301         392   \n2          5.846        2618   \n3          6.500         331   \n4          7.300          28   \n5          7.100          27   \n6          8.204       20446   \n7          7.819       19086   \n8          8.473       27230   \n9          8.018       11916   \n10         8.010        5435   \n11         7.876        1764   \n12         5.765         264   \n13         7.600       10600   \n14         8.124        2718   \n15         6.000         457   \n16         7.211         114   \n17         7.806       20423   \n18         7.971       17233   \n19         6.666        2837   \n\n                                             overview  \\\n0   After the coal mine he works at closes and his...   \n1   Nikander, a rubbish collector and would-be ent...   \n2   It's Ted the Bellhop's first night on the job....   \n3   Four young friends, while taking a shortcut en...   \n4   Timo Novotny labels his new project an experim...   \n5                                                       \n6   Princess Leia is captured and held hostage by ...   \n7   Nemo, an adventurous young clownfish, is unexp...   \n8   A man with a low IQ has accomplished great thi...   \n9   Lester Burnham, a depressed suburban father in...   \n10  Newspaper magnate Charles Foster Kane is taken...   \n11  Selma, a Czech immigrant on the verge of blind...   \n12  In an attempt to pull her family together, Adè...   \n13  In 2257, a taxi driver is unintentionally give...   \n14  In a futuristic city sharply divided between t...   \n15  A fatally ill mother with only two months to l...   \n16  Bruce Brown's The Endless Summer is one of the...   \n17  After Port Royal is attacked and pillaged by a...   \n18  An assassin is shot by her ruthless employer, ...   \n19  Jarhead is a film about a US Marine Anthony Sw...   \n\n                                              reviews  \n0                                No reviews available  \n1   Released in 1986, Aki Kaurismaki's <i>Varjoja ...  \n2                                No reviews available  \n3                                No reviews available  \n4                                No reviews available  \n5                                No reviews available  \n6   (As I'm writing this review, Darth Vader's the...  \n7   One of the best animated films I have ever see...  \n8   Best movie ever. This is the best movie ever! ...  \n9   The film American Beauty to me is a film about...  \n10  \"The Greatest Movie of All Time!\" That's the g...  \n11  Dazzling Björk in this indictment against the ...  \n12                               No reviews available  \n13  This movie is one of the best movies of all ti...  \n14  Metropolis is one of the greatest films ever m...  \n15  As a narrative, it's a bit weak. But on other ...  \n16                               No reviews available  \n17  Ah, but you have heard of me.\\r\\n\\r\\nThe crew ...  \n18  This is the movie he made after Jackie Brown. ...  \n19                               No reviews available  ",
      "text/html": "<div>\n<style scoped>\n    .dataframe tbody tr th:only-of-type {\n        vertical-align: middle;\n    }\n\n    .dataframe tbody tr th {\n        vertical-align: top;\n    }\n\n    .dataframe thead th {\n        text-align: right;\n    }\n</style>\n<table border=\"1\" class=\"dataframe\">\n  <thead>\n    <tr style=\"text-align: right;\">\n      <th></th>\n      <th>id</th>\n      <th>title</th>\n      <th>release_date</th>\n      <th>revenue</th>\n      <th>budget</th>\n      <th>production_companies</th>\n      <th>genres</th>\n      <th>popularity</th>\n      <th>vote_average</th>\n      <th>vote_count</th>\n      <th>overview</th>\n      <th>reviews</th>\n    </tr>\n  </thead>\n  <tbody>\n    <tr>\n      <th>0</th>\n      <td>2</td>\n      <td>Ariel</td>\n      <td>1988-10-21</td>\n      <td>0</td>\n      <td>0</td>\n      <td>Villealfa Filmproductions</td>\n      <td>Comedy, Drama, Romance, Crime</td>\n      <td>26.263</td>\n      <td>7.118</td>\n      <td>331</td>\n      <td>After the coal mine he works at closes and his...</td>\n      <td>No reviews available</td>\n    </tr>\n    <tr>\n      <th>1</th>\n      <td>3</td>\n      <td>Shadows in Paradise</td>\n      <td>1986-10-17</td>\n      <td>0</td>\n      <td>0</td>\n      <td>Villealfa Filmproductions</td>\n      <td>Comedy, Drama, Romance</td>\n      <td>6.004</td>\n      <td>7.301</td>\n      <td>392</td>\n      <td>Nikander, a rubbish collector and would-be ent...</td>\n      <td>Released in 1986, Aki Kaurismaki's &lt;i&gt;Varjoja ...</td>\n    </tr>\n    <tr>\n      <th>2</th>\n      <td>5</td>\n      <td>Four Rooms</td>\n      <td>1995-12-09</td>\n      <td>4257354</td>\n      <td>4000000</td>\n      <td>Miramax, A Band Apart</td>\n      <td>Comedy</td>\n      <td>15.300</td>\n      <td>5.846</td>\n      <td>2618</td>\n      <td>It's Ted the Bellhop's first night on the job....</td>\n      <td>No reviews available</td>\n    </tr>\n    <tr>\n      <th>3</th>\n      <td>6</td>\n      <td>Judgment Night</td>\n      <td>1993-10-15</td>\n      <td>12136938</td>\n      <td>21000000</td>\n      <td>Largo Entertainment, JVC, Universal Pictures</td>\n      <td>Action, Crime, Thriller</td>\n      <td>22.862</td>\n      <td>6.500</td>\n      <td>331</td>\n      <td>Four young friends, while taking a shortcut en...</td>\n      <td>No reviews available</td>\n    </tr>\n    <tr>\n      <th>4</th>\n      <td>8</td>\n      <td>Life in Loops (A Megacities RMX)</td>\n      <td>2006-01-01</td>\n      <td>0</td>\n      <td>42000</td>\n      <td>inLoops</td>\n      <td>Documentary</td>\n      <td>2.925</td>\n      <td>7.300</td>\n      <td>28</td>\n      <td>Timo Novotny labels his new project an experim...</td>\n      <td>No reviews available</td>\n    </tr>\n    <tr>\n      <th>5</th>\n      <td>9</td>\n      <td>Sunday in August</td>\n      <td>2004-09-02</td>\n      <td>0</td>\n      <td>0</td>\n      <td></td>\n      <td>Drama</td>\n      <td>3.174</td>\n      <td>7.100</td>\n      <td>27</td>\n      <td></td>\n      <td>No reviews available</td>\n    </tr>\n    <tr>\n      <th>6</th>\n      <td>11</td>\n      <td>Star Wars</td>\n      <td>1977-05-25</td>\n      <td>775398007</td>\n      <td>11000000</td>\n      <td>Lucasfilm Ltd., 20th Century Fox</td>\n      <td>Adventure, Action, Science Fiction</td>\n      <td>89.460</td>\n      <td>8.204</td>\n      <td>20446</td>\n      <td>Princess Leia is captured and held hostage by ...</td>\n      <td>(As I'm writing this review, Darth Vader's the...</td>\n    </tr>\n    <tr>\n      <th>7</th>\n      <td>12</td>\n      <td>Finding Nemo</td>\n      <td>2003-05-30</td>\n      <td>940335536</td>\n      <td>94000000</td>\n      <td>Pixar</td>\n      <td>Animation, Family</td>\n      <td>108.046</td>\n      <td>7.819</td>\n      <td>19086</td>\n      <td>Nemo, an adventurous young clownfish, is unexp...</td>\n      <td>One of the best animated films I have ever see...</td>\n    </tr>\n    <tr>\n      <th>8</th>\n      <td>13</td>\n      <td>Forrest Gump</td>\n      <td>1994-06-23</td>\n      <td>677387716</td>\n      <td>55000000</td>\n      <td>Paramount Pictures, The Steve Tisch Company, W...</td>\n      <td>Comedy, Drama, Romance</td>\n      <td>83.259</td>\n      <td>8.473</td>\n      <td>27230</td>\n      <td>A man with a low IQ has accomplished great thi...</td>\n      <td>Best movie ever. This is the best movie ever! ...</td>\n    </tr>\n    <tr>\n      <th>9</th>\n      <td>14</td>\n      <td>American Beauty</td>\n      <td>1999-09-15</td>\n      <td>356296601</td>\n      <td>15000000</td>\n      <td>DreamWorks Pictures, Jinks/Cohen Company</td>\n      <td>Drama</td>\n      <td>37.161</td>\n      <td>8.018</td>\n      <td>11916</td>\n      <td>Lester Burnham, a depressed suburban father in...</td>\n      <td>The film American Beauty to me is a film about...</td>\n    </tr>\n    <tr>\n      <th>10</th>\n      <td>15</td>\n      <td>Citizen Kane</td>\n      <td>1941-04-17</td>\n      <td>23218000</td>\n      <td>839727</td>\n      <td>Mercury Productions, RKO Radio Pictures</td>\n      <td>Mystery, Drama</td>\n      <td>24.584</td>\n      <td>8.010</td>\n      <td>5435</td>\n      <td>Newspaper magnate Charles Foster Kane is taken...</td>\n      <td>\"The Greatest Movie of All Time!\" That's the g...</td>\n    </tr>\n    <tr>\n      <th>11</th>\n      <td>16</td>\n      <td>Dancer in the Dark</td>\n      <td>2000-09-01</td>\n      <td>40061153</td>\n      <td>12500000</td>\n      <td>Zentropa Entertainments, DR, SVT Drama, ARTE, ...</td>\n      <td>Drama, Crime</td>\n      <td>17.530</td>\n      <td>7.876</td>\n      <td>1764</td>\n      <td>Selma, a Czech immigrant on the verge of blind...</td>\n      <td>Dazzling Björk in this indictment against the ...</td>\n    </tr>\n    <tr>\n      <th>12</th>\n      <td>17</td>\n      <td>The Dark</td>\n      <td>2005-09-28</td>\n      <td>6593579</td>\n      <td>0</td>\n      <td>Constantin Film, Impact Pictures, Isle of Man ...</td>\n      <td>Horror, Thriller, Mystery</td>\n      <td>17.766</td>\n      <td>5.765</td>\n      <td>264</td>\n      <td>In an attempt to pull her family together, Adè...</td>\n      <td>No reviews available</td>\n    </tr>\n    <tr>\n      <th>13</th>\n      <td>18</td>\n      <td>The Fifth Element</td>\n      <td>1997-05-02</td>\n      <td>263920180</td>\n      <td>90000000</td>\n      <td>Gaumont, Columbia Pictures</td>\n      <td>Adventure, Fantasy, Action, Thriller, Science ...</td>\n      <td>89.855</td>\n      <td>7.600</td>\n      <td>10600</td>\n      <td>In 2257, a taxi driver is unintentionally give...</td>\n      <td>This movie is one of the best movies of all ti...</td>\n    </tr>\n    <tr>\n      <th>14</th>\n      <td>19</td>\n      <td>Metropolis</td>\n      <td>1927-02-06</td>\n      <td>1350322</td>\n      <td>5300000</td>\n      <td>UFA</td>\n      <td>Drama, Science Fiction</td>\n      <td>46.312</td>\n      <td>8.124</td>\n      <td>2718</td>\n      <td>In a futuristic city sharply divided between t...</td>\n      <td>Metropolis is one of the greatest films ever m...</td>\n    </tr>\n    <tr>\n      <th>15</th>\n      <td>20</td>\n      <td>My Life Without Me</td>\n      <td>2003-03-07</td>\n      <td>12300000</td>\n      <td>2500000</td>\n      <td>El Deseo, Milestone Productions</td>\n      <td>Drama, Romance</td>\n      <td>25.283</td>\n      <td>6.000</td>\n      <td>457</td>\n      <td>A fatally ill mother with only two months to l...</td>\n      <td>As a narrative, it's a bit weak. But on other ...</td>\n    </tr>\n    <tr>\n      <th>16</th>\n      <td>21</td>\n      <td>The Endless Summer</td>\n      <td>1966-06-15</td>\n      <td>0</td>\n      <td>50000</td>\n      <td>Bruce Brown Films</td>\n      <td>Documentary</td>\n      <td>12.764</td>\n      <td>7.211</td>\n      <td>114</td>\n      <td>Bruce Brown's The Endless Summer is one of the...</td>\n      <td>No reviews available</td>\n    </tr>\n    <tr>\n      <th>17</th>\n      <td>22</td>\n      <td>Pirates of the Caribbean: The Curse of the Bla...</td>\n      <td>2003-07-09</td>\n      <td>655011224</td>\n      <td>140000000</td>\n      <td>Walt Disney Pictures, Jerry Bruckheimer Films</td>\n      <td>Adventure, Fantasy, Action</td>\n      <td>178.927</td>\n      <td>7.806</td>\n      <td>20423</td>\n      <td>After Port Royal is attacked and pillaged by a...</td>\n      <td>Ah, but you have heard of me.\\r\\n\\r\\nThe crew ...</td>\n    </tr>\n    <tr>\n      <th>18</th>\n      <td>24</td>\n      <td>Kill Bill: Vol. 1</td>\n      <td>2003-10-10</td>\n      <td>180906076</td>\n      <td>30000000</td>\n      <td>Miramax, A Band Apart, Super Cool ManChu</td>\n      <td>Action, Crime</td>\n      <td>47.746</td>\n      <td>7.971</td>\n      <td>17233</td>\n      <td>An assassin is shot by her ruthless employer, ...</td>\n      <td>This is the movie he made after Jackie Brown. ...</td>\n    </tr>\n    <tr>\n      <th>19</th>\n      <td>25</td>\n      <td>Jarhead</td>\n      <td>2005-11-04</td>\n      <td>97076152</td>\n      <td>72000000</td>\n      <td>Red Wagon Entertainment, Neal Street Productions</td>\n      <td>Drama, War</td>\n      <td>21.214</td>\n      <td>6.666</td>\n      <td>2837</td>\n      <td>Jarhead is a film about a US Marine Anthony Sw...</td>\n      <td>No reviews available</td>\n    </tr>\n  </tbody>\n</table>\n</div>"
     },
     "execution_count": 3,
     "metadata": {},
     "output_type": "execute_result"
    }
   ],
   "source": [
    "base_url = \"https://api.themoviedb.org/3/movie/\"\n",
    "pop_reviews = \"movie/reviews\"\n",
    "url = f\"{base_url}?api_key={apikey}\"\n",
    "\n",
    "movie_data = []\n",
    "\n",
    "for movie_id in range(1, 6000):  # Adjust this range as needed\n",
    "    # Get movie details\n",
    "    movie_url = f\"{base_url}{movie_id}?api_key={apikey}\"\n",
    "    r = requests.get(movie_url)\n",
    "    \n",
    "    if r.ok:\n",
    "        movie = r.json()\n",
    "        \n",
    "        # Prepare movie details\n",
    "        movie_details = {\n",
    "            'id': movie.get('id'),\n",
    "            'title': movie.get('title'),\n",
    "            'release_date': movie.get('release_date'),\n",
    "            'revenue': movie.get('revenue'),\n",
    "            'budget': movie.get('budget'),\n",
    "            'production_companies': ', '.join([company['name'] for company in movie.get('production_companies', [])]),\n",
    "            'genres': ', '.join([genre['name'] for genre in movie.get('genres', [])]),\n",
    "            'popularity': movie.get('popularity'),\n",
    "            'vote_average': movie.get('vote_average'),\n",
    "            'vote_count': movie.get('vote_count'),\n",
    "            'overview': movie.get('overview')\n",
    "        }\n",
    "\n",
    "        # Get movie reviews\n",
    "        reviews_url = f\"{base_url}{movie_id}/reviews?api_key={apikey}\"\n",
    "        reviews_response = requests.get(reviews_url)\n",
    "        \n",
    "        if reviews_response.ok:\n",
    "            reviews_data = reviews_response.json()\n",
    "            reviews = reviews_data.get('results', [])\n",
    "            \n",
    "            # Get all movie reviews and combine them into one long review\n",
    "            review_texts = [review['content'] for review in reviews]\n",
    "            movie_details['reviews'] = ' '.join(review_texts) if review_texts else 'No reviews available'\n",
    "        else:\n",
    "            movie_details['reviews'] = 'No reviews available'\n",
    "        \n",
    "        movie_data.append(movie_details)\n",
    "    \n",
    "    # Add a delay to prevent overwhelming the API\n",
    "    time.sleep(.1)\n",
    "\n",
    "# Convert to data frame\n",
    "movies_df = pd.DataFrame(movie_data)\n",
    "movies_df.head(20)"
   ],
   "metadata": {
    "collapsed": false,
    "ExecuteTime": {
     "end_time": "2024-10-07T16:45:25.314205100Z",
     "start_time": "2024-10-07T16:05:36.328734200Z"
    }
   },
   "id": "94f9a4a920151510"
  },
  {
   "cell_type": "code",
   "execution_count": 4,
   "outputs": [],
   "source": [
    "movies_df.to_csv('movies.csv', index = False)"
   ],
   "metadata": {
    "collapsed": false,
    "ExecuteTime": {
     "end_time": "2024-10-07T16:45:26.074705Z",
     "start_time": "2024-10-07T16:45:25.125069100Z"
    }
   },
   "id": "839ea2a95d5b1ec7"
  },
  {
   "cell_type": "code",
   "execution_count": 1,
   "outputs": [
    {
     "ename": "NameError",
     "evalue": "name 'movies_df' is not defined",
     "output_type": "error",
     "traceback": [
      "\u001B[1;31m---------------------------------------------------------------------------\u001B[0m",
      "\u001B[1;31mNameError\u001B[0m                                 Traceback (most recent call last)",
      "Cell \u001B[1;32mIn[1], line 1\u001B[0m\n\u001B[1;32m----> 1\u001B[0m movies_df\u001B[38;5;241m.\u001B[39msize\n",
      "\u001B[1;31mNameError\u001B[0m: name 'movies_df' is not defined"
     ]
    }
   ],
   "source": [],
   "metadata": {
    "collapsed": false,
    "ExecuteTime": {
     "end_time": "2024-10-07T23:54:44.620478Z",
     "start_time": "2024-10-07T23:54:43.696191Z"
    }
   },
   "id": "c76472b712f1a9da"
  }
 ],
 "metadata": {
  "kernelspec": {
   "display_name": "Python 3",
   "language": "python",
   "name": "python3"
  },
  "language_info": {
   "codemirror_mode": {
    "name": "ipython",
    "version": 2
   },
   "file_extension": ".py",
   "mimetype": "text/x-python",
   "name": "python",
   "nbconvert_exporter": "python",
   "pygments_lexer": "ipython2",
   "version": "2.7.6"
  }
 },
 "nbformat": 4,
 "nbformat_minor": 5
}
