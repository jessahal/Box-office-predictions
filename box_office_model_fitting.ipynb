{
 "cells": [
  {
   "cell_type": "code",
   "execution_count": 1,
   "id": "initial_id",
   "metadata": {
    "collapsed": true,
    "ExecuteTime": {
     "end_time": "2024-11-12T22:58:09.819704100Z",
     "start_time": "2024-11-12T22:58:08.890948Z"
    }
   },
   "outputs": [],
   "source": [
    "import re\n",
    "import pandas as pd\n",
    "import matplotlib.pyplot as plt\n",
    "import numpy as np\n",
    "from sklearn.neighbors import KNeighborsClassifier, KNeighborsRegressor\n",
    "from sklearn.preprocessing import PolynomialFeatures, StandardScaler, OneHotEncoder, MultiLabelBinarizer\n",
    "from sklearn.ensemble import RandomForestRegressor\n",
    "from sklearn.metrics import mean_squared_error, accuracy_score\n",
    "from sklearn.feature_selection import SelectPercentile, f_regression\n",
    "from sklearn.base import BaseEstimator, TransformerMixin\n",
    "from sklearn.pipeline import Pipeline\n",
    "from sklearn.compose import ColumnTransformer\n",
    "from sklearn.preprocessing import StandardScaler, OneHotEncoder, MinMaxScaler\n",
    "from sklearn.impute import SimpleImputer\n",
    "from sklearn.model_selection import train_test_split\n",
    "from sklearn.linear_model import LinearRegression\n",
    "\n",
    "movies = pd.read_csv('movies_data.csv')"
   ]
  },
  {
   "cell_type": "code",
   "execution_count": 2,
   "outputs": [
    {
     "data": {
      "text/plain": "   id           title release_date    revenue    budget  \\\n0   5      Four Rooms   1995-12-09    4257354   4000000   \n1   6  Judgment Night   1993-10-15   12136938  21000000   \n2  11       Star Wars   1977-05-25  775398007  11000000   \n3  12    Finding Nemo   2003-05-30  940335536  94000000   \n4  13    Forrest Gump   1994-06-23  677387716  55000000   \n\n                                production_companies  \\\n0                            [Miramax, A Band Apart]   \n1     [Largo Entertainment, JVC, Universal Pictures]   \n2                 [Lucasfilm Ltd., 20th Century Fox]   \n3                                            [Pixar]   \n4  [Paramount Pictures, The Steve Tisch Company, ...   \n\n                                 genres  popularity  vote_average  vote_count  \\\n0                              [Comedy]      13.275         5.800        2618   \n1             [Action, Crime, Thriller]       9.284         6.500         331   \n2  [Adventure, Action, Science Fiction]      81.543         8.200       20457   \n3                   [Animation, Family]      85.328         7.819       19102   \n4              [Comedy, Drama, Romance]     106.538         8.472       27251   \n\n                                            overview  \\\n0  It's Ted the Bellhop's first night on the job....   \n1  Four young friends, while taking a shortcut en...   \n2  Princess Leia is captured and held hostage by ...   \n3  Nemo, an adventurous young clownfish, is unexp...   \n4  A man with a low IQ has accomplished great thi...   \n\n                                             reviews  sentiment  \n0                               No reviews available     0.0000  \n1                               No reviews available     0.0000  \n2  (As I'm writing this review, Darth Vader's the...     0.9998  \n3  One of the best animated films I have ever see...     0.9976  \n4  Best movie ever. This is the best movie ever! ...     0.9963  ",
      "text/html": "<div>\n<style scoped>\n    .dataframe tbody tr th:only-of-type {\n        vertical-align: middle;\n    }\n\n    .dataframe tbody tr th {\n        vertical-align: top;\n    }\n\n    .dataframe thead th {\n        text-align: right;\n    }\n</style>\n<table border=\"1\" class=\"dataframe\">\n  <thead>\n    <tr style=\"text-align: right;\">\n      <th></th>\n      <th>id</th>\n      <th>title</th>\n      <th>release_date</th>\n      <th>revenue</th>\n      <th>budget</th>\n      <th>production_companies</th>\n      <th>genres</th>\n      <th>popularity</th>\n      <th>vote_average</th>\n      <th>vote_count</th>\n      <th>overview</th>\n      <th>reviews</th>\n      <th>sentiment</th>\n    </tr>\n  </thead>\n  <tbody>\n    <tr>\n      <th>0</th>\n      <td>5</td>\n      <td>Four Rooms</td>\n      <td>1995-12-09</td>\n      <td>4257354</td>\n      <td>4000000</td>\n      <td>[Miramax, A Band Apart]</td>\n      <td>[Comedy]</td>\n      <td>13.275</td>\n      <td>5.800</td>\n      <td>2618</td>\n      <td>It's Ted the Bellhop's first night on the job....</td>\n      <td>No reviews available</td>\n      <td>0.0000</td>\n    </tr>\n    <tr>\n      <th>1</th>\n      <td>6</td>\n      <td>Judgment Night</td>\n      <td>1993-10-15</td>\n      <td>12136938</td>\n      <td>21000000</td>\n      <td>[Largo Entertainment, JVC, Universal Pictures]</td>\n      <td>[Action, Crime, Thriller]</td>\n      <td>9.284</td>\n      <td>6.500</td>\n      <td>331</td>\n      <td>Four young friends, while taking a shortcut en...</td>\n      <td>No reviews available</td>\n      <td>0.0000</td>\n    </tr>\n    <tr>\n      <th>2</th>\n      <td>11</td>\n      <td>Star Wars</td>\n      <td>1977-05-25</td>\n      <td>775398007</td>\n      <td>11000000</td>\n      <td>[Lucasfilm Ltd., 20th Century Fox]</td>\n      <td>[Adventure, Action, Science Fiction]</td>\n      <td>81.543</td>\n      <td>8.200</td>\n      <td>20457</td>\n      <td>Princess Leia is captured and held hostage by ...</td>\n      <td>(As I'm writing this review, Darth Vader's the...</td>\n      <td>0.9998</td>\n    </tr>\n    <tr>\n      <th>3</th>\n      <td>12</td>\n      <td>Finding Nemo</td>\n      <td>2003-05-30</td>\n      <td>940335536</td>\n      <td>94000000</td>\n      <td>[Pixar]</td>\n      <td>[Animation, Family]</td>\n      <td>85.328</td>\n      <td>7.819</td>\n      <td>19102</td>\n      <td>Nemo, an adventurous young clownfish, is unexp...</td>\n      <td>One of the best animated films I have ever see...</td>\n      <td>0.9976</td>\n    </tr>\n    <tr>\n      <th>4</th>\n      <td>13</td>\n      <td>Forrest Gump</td>\n      <td>1994-06-23</td>\n      <td>677387716</td>\n      <td>55000000</td>\n      <td>[Paramount Pictures, The Steve Tisch Company, ...</td>\n      <td>[Comedy, Drama, Romance]</td>\n      <td>106.538</td>\n      <td>8.472</td>\n      <td>27251</td>\n      <td>A man with a low IQ has accomplished great thi...</td>\n      <td>Best movie ever. This is the best movie ever! ...</td>\n      <td>0.9963</td>\n    </tr>\n  </tbody>\n</table>\n</div>"
     },
     "execution_count": 2,
     "metadata": {},
     "output_type": "execute_result"
    }
   ],
   "source": [
    "def convert_to_list(x):\n",
    "    if isinstance(x, str) and x.strip():  # Check if x is a non-empty string\n",
    "        return [item.strip() for item in x.split(',')]\n",
    "    return ['not listed'] \n",
    "\n",
    "# Apply the conversion function to movies and production companies\n",
    "movies['genres'] = movies['genres'].apply(convert_to_list)\n",
    "movies['production_companies'] = movies['production_companies'].apply(convert_to_list)\n",
    "movies.head()"
   ],
   "metadata": {
    "collapsed": false,
    "ExecuteTime": {
     "end_time": "2024-11-12T22:58:09.882699400Z",
     "start_time": "2024-11-12T22:58:09.815693400Z"
    }
   },
   "id": "93f1d42bcb9b620e"
  },
  {
   "cell_type": "code",
   "execution_count": 3,
   "outputs": [
    {
     "data": {
      "text/plain": "   id           title release_date    revenue    budget  \\\n0   5      Four Rooms   1995-12-09    4257354   4000000   \n1   6  Judgment Night   1993-10-15   12136938  21000000   \n2  11       Star Wars   1977-05-25  775398007  11000000   \n3  12    Finding Nemo   2003-05-30  940335536  94000000   \n4  13    Forrest Gump   1994-06-23  677387716  55000000   \n\n                                production_companies  \\\n0                            [Miramax, A Band Apart]   \n1     [Largo Entertainment, JVC, Universal Pictures]   \n2                 [Lucasfilm Ltd., 20th Century Fox]   \n3                                            [Pixar]   \n4  [Paramount Pictures, The Steve Tisch Company, ...   \n\n                                 genres  popularity  vote_average  vote_count  \\\n0                              [Comedy]      13.275         5.800        2618   \n1             [Action, Crime, Thriller]       9.284         6.500         331   \n2  [Adventure, Action, Science Fiction]      81.543         8.200       20457   \n3                   [Animation, Family]      85.328         7.819       19102   \n4              [Comedy, Drama, Romance]     106.538         8.472       27251   \n\n                                            overview  \\\n0  It's Ted the Bellhop's first night on the job....   \n1  Four young friends, while taking a shortcut en...   \n2  Princess Leia is captured and held hostage by ...   \n3  Nemo, an adventurous young clownfish, is unexp...   \n4  A man with a low IQ has accomplished great thi...   \n\n                                             reviews  sentiment  release_year  \\\n0                               No reviews available     0.0000          1995   \n1                               No reviews available     0.0000          1993   \n2  (As I'm writing this review, Darth Vader's the...     0.9998          1977   \n3  One of the best animated films I have ever see...     0.9976          2003   \n4  Best movie ever. This is the best movie ever! ...     0.9963          1994   \n\n   release_month  release_week  \n0             12            49  \n1             10            41  \n2              5            21  \n3              5            22  \n4              6            25  ",
      "text/html": "<div>\n<style scoped>\n    .dataframe tbody tr th:only-of-type {\n        vertical-align: middle;\n    }\n\n    .dataframe tbody tr th {\n        vertical-align: top;\n    }\n\n    .dataframe thead th {\n        text-align: right;\n    }\n</style>\n<table border=\"1\" class=\"dataframe\">\n  <thead>\n    <tr style=\"text-align: right;\">\n      <th></th>\n      <th>id</th>\n      <th>title</th>\n      <th>release_date</th>\n      <th>revenue</th>\n      <th>budget</th>\n      <th>production_companies</th>\n      <th>genres</th>\n      <th>popularity</th>\n      <th>vote_average</th>\n      <th>vote_count</th>\n      <th>overview</th>\n      <th>reviews</th>\n      <th>sentiment</th>\n      <th>release_year</th>\n      <th>release_month</th>\n      <th>release_week</th>\n    </tr>\n  </thead>\n  <tbody>\n    <tr>\n      <th>0</th>\n      <td>5</td>\n      <td>Four Rooms</td>\n      <td>1995-12-09</td>\n      <td>4257354</td>\n      <td>4000000</td>\n      <td>[Miramax, A Band Apart]</td>\n      <td>[Comedy]</td>\n      <td>13.275</td>\n      <td>5.800</td>\n      <td>2618</td>\n      <td>It's Ted the Bellhop's first night on the job....</td>\n      <td>No reviews available</td>\n      <td>0.0000</td>\n      <td>1995</td>\n      <td>12</td>\n      <td>49</td>\n    </tr>\n    <tr>\n      <th>1</th>\n      <td>6</td>\n      <td>Judgment Night</td>\n      <td>1993-10-15</td>\n      <td>12136938</td>\n      <td>21000000</td>\n      <td>[Largo Entertainment, JVC, Universal Pictures]</td>\n      <td>[Action, Crime, Thriller]</td>\n      <td>9.284</td>\n      <td>6.500</td>\n      <td>331</td>\n      <td>Four young friends, while taking a shortcut en...</td>\n      <td>No reviews available</td>\n      <td>0.0000</td>\n      <td>1993</td>\n      <td>10</td>\n      <td>41</td>\n    </tr>\n    <tr>\n      <th>2</th>\n      <td>11</td>\n      <td>Star Wars</td>\n      <td>1977-05-25</td>\n      <td>775398007</td>\n      <td>11000000</td>\n      <td>[Lucasfilm Ltd., 20th Century Fox]</td>\n      <td>[Adventure, Action, Science Fiction]</td>\n      <td>81.543</td>\n      <td>8.200</td>\n      <td>20457</td>\n      <td>Princess Leia is captured and held hostage by ...</td>\n      <td>(As I'm writing this review, Darth Vader's the...</td>\n      <td>0.9998</td>\n      <td>1977</td>\n      <td>5</td>\n      <td>21</td>\n    </tr>\n    <tr>\n      <th>3</th>\n      <td>12</td>\n      <td>Finding Nemo</td>\n      <td>2003-05-30</td>\n      <td>940335536</td>\n      <td>94000000</td>\n      <td>[Pixar]</td>\n      <td>[Animation, Family]</td>\n      <td>85.328</td>\n      <td>7.819</td>\n      <td>19102</td>\n      <td>Nemo, an adventurous young clownfish, is unexp...</td>\n      <td>One of the best animated films I have ever see...</td>\n      <td>0.9976</td>\n      <td>2003</td>\n      <td>5</td>\n      <td>22</td>\n    </tr>\n    <tr>\n      <th>4</th>\n      <td>13</td>\n      <td>Forrest Gump</td>\n      <td>1994-06-23</td>\n      <td>677387716</td>\n      <td>55000000</td>\n      <td>[Paramount Pictures, The Steve Tisch Company, ...</td>\n      <td>[Comedy, Drama, Romance]</td>\n      <td>106.538</td>\n      <td>8.472</td>\n      <td>27251</td>\n      <td>A man with a low IQ has accomplished great thi...</td>\n      <td>Best movie ever. This is the best movie ever! ...</td>\n      <td>0.9963</td>\n      <td>1994</td>\n      <td>6</td>\n      <td>25</td>\n    </tr>\n  </tbody>\n</table>\n</div>"
     },
     "execution_count": 3,
     "metadata": {},
     "output_type": "execute_result"
    }
   ],
   "source": [
    "movies['release_date'] = pd.to_datetime(movies['release_date'])\n",
    "\n",
    "# Extract year, month, and week number as new columns\n",
    "movies['release_year'] = movies['release_date'].dt.year\n",
    "movies['release_month'] = movies['release_date'].dt.month\n",
    "movies['release_week'] = movies['release_date'].dt.isocalendar().week  # Week number of the year\n",
    "\n",
    "movies.head()"
   ],
   "metadata": {
    "collapsed": false,
    "ExecuteTime": {
     "end_time": "2024-11-12T22:58:10.008286900Z",
     "start_time": "2024-11-12T22:58:09.876673900Z"
    }
   },
   "id": "57a4c7f3c49defee"
  },
  {
   "cell_type": "code",
   "execution_count": 77,
   "outputs": [
    {
     "data": {
      "text/plain": "   id           title    revenue    budget  \\\n0   5      Four Rooms    4257354   4000000   \n1   6  Judgment Night   12136938  21000000   \n2  11       Star Wars  775398007  11000000   \n3  12    Finding Nemo  940335536  94000000   \n4  13    Forrest Gump  677387716  55000000   \n\n                                 genres  popularity  vote_average  vote_count  \\\n0                              [Comedy]      13.275         5.800        2618   \n1             [Action, Crime, Thriller]       9.284         6.500         331   \n2  [Adventure, Action, Science Fiction]      81.543         8.200       20457   \n3                   [Animation, Family]      85.328         7.819       19102   \n4              [Comedy, Drama, Romance]     106.538         8.472       27251   \n\n                                            overview  \\\n0  It's Ted the Bellhop's first night on the job....   \n1  Four young friends, while taking a shortcut en...   \n2  Princess Leia is captured and held hostage by ...   \n3  Nemo, an adventurous young clownfish, is unexp...   \n4  A man with a low IQ has accomplished great thi...   \n\n                                             reviews  sentiment  release_year  \\\n0                               No reviews available     0.0000          1995   \n1                               No reviews available     0.0000          1993   \n2  (As I'm writing this review, Darth Vader's the...     0.9998          1977   \n3  One of the best animated films I have ever see...     0.9976          2003   \n4  Best movie ever. This is the best movie ever! ...     0.9963          1994   \n\n   release_month  release_week production_level  \n0             12            49        Mid-level  \n1             10            41        Mid-level  \n2              5            21              Top  \n3              5            22              Top  \n4              6            25              Top  ",
      "text/html": "<div>\n<style scoped>\n    .dataframe tbody tr th:only-of-type {\n        vertical-align: middle;\n    }\n\n    .dataframe tbody tr th {\n        vertical-align: top;\n    }\n\n    .dataframe thead th {\n        text-align: right;\n    }\n</style>\n<table border=\"1\" class=\"dataframe\">\n  <thead>\n    <tr style=\"text-align: right;\">\n      <th></th>\n      <th>id</th>\n      <th>title</th>\n      <th>revenue</th>\n      <th>budget</th>\n      <th>genres</th>\n      <th>popularity</th>\n      <th>vote_average</th>\n      <th>vote_count</th>\n      <th>overview</th>\n      <th>reviews</th>\n      <th>sentiment</th>\n      <th>release_year</th>\n      <th>release_month</th>\n      <th>release_week</th>\n      <th>production_level</th>\n    </tr>\n  </thead>\n  <tbody>\n    <tr>\n      <th>0</th>\n      <td>5</td>\n      <td>Four Rooms</td>\n      <td>4257354</td>\n      <td>4000000</td>\n      <td>[Comedy]</td>\n      <td>13.275</td>\n      <td>5.800</td>\n      <td>2618</td>\n      <td>It's Ted the Bellhop's first night on the job....</td>\n      <td>No reviews available</td>\n      <td>0.0000</td>\n      <td>1995</td>\n      <td>12</td>\n      <td>49</td>\n      <td>Mid-level</td>\n    </tr>\n    <tr>\n      <th>1</th>\n      <td>6</td>\n      <td>Judgment Night</td>\n      <td>12136938</td>\n      <td>21000000</td>\n      <td>[Action, Crime, Thriller]</td>\n      <td>9.284</td>\n      <td>6.500</td>\n      <td>331</td>\n      <td>Four young friends, while taking a shortcut en...</td>\n      <td>No reviews available</td>\n      <td>0.0000</td>\n      <td>1993</td>\n      <td>10</td>\n      <td>41</td>\n      <td>Mid-level</td>\n    </tr>\n    <tr>\n      <th>2</th>\n      <td>11</td>\n      <td>Star Wars</td>\n      <td>775398007</td>\n      <td>11000000</td>\n      <td>[Adventure, Action, Science Fiction]</td>\n      <td>81.543</td>\n      <td>8.200</td>\n      <td>20457</td>\n      <td>Princess Leia is captured and held hostage by ...</td>\n      <td>(As I'm writing this review, Darth Vader's the...</td>\n      <td>0.9998</td>\n      <td>1977</td>\n      <td>5</td>\n      <td>21</td>\n      <td>Top</td>\n    </tr>\n    <tr>\n      <th>3</th>\n      <td>12</td>\n      <td>Finding Nemo</td>\n      <td>940335536</td>\n      <td>94000000</td>\n      <td>[Animation, Family]</td>\n      <td>85.328</td>\n      <td>7.819</td>\n      <td>19102</td>\n      <td>Nemo, an adventurous young clownfish, is unexp...</td>\n      <td>One of the best animated films I have ever see...</td>\n      <td>0.9976</td>\n      <td>2003</td>\n      <td>5</td>\n      <td>22</td>\n      <td>Top</td>\n    </tr>\n    <tr>\n      <th>4</th>\n      <td>13</td>\n      <td>Forrest Gump</td>\n      <td>677387716</td>\n      <td>55000000</td>\n      <td>[Comedy, Drama, Romance]</td>\n      <td>106.538</td>\n      <td>8.472</td>\n      <td>27251</td>\n      <td>A man with a low IQ has accomplished great thi...</td>\n      <td>Best movie ever. This is the best movie ever! ...</td>\n      <td>0.9963</td>\n      <td>1994</td>\n      <td>6</td>\n      <td>25</td>\n      <td>Top</td>\n    </tr>\n  </tbody>\n</table>\n</div>"
     },
     "execution_count": 77,
     "metadata": {},
     "output_type": "execute_result"
    }
   ],
   "source": [
    "# Calculate average revenue by production company\n",
    "avg_revenue_by_company = movies.explode('production_companies').groupby('production_companies')['revenue'].mean()\n",
    "\n",
    "# Sort companies by their average revenue\n",
    "ranked_companies = avg_revenue_by_company.sort_values(ascending=False)\n",
    "\n",
    "# Define thresholds for each category (you could use percentiles or fixed thresholds)\n",
    "top_companies = ranked_companies.head(100)  # Top 100 companies by revenue\n",
    "mid_companies = ranked_companies.iloc[100:1000]  # Mid-level companies\n",
    "low_companies = ranked_companies.tail(3284-1100)  # Remaining companies\n",
    "\n",
    "# Create a new column in your DataFrame to categorize each company\n",
    "def categorize_company(company):\n",
    "    if company in top_companies.index:\n",
    "        return 'Top'\n",
    "    elif company in mid_companies.index:\n",
    "        return 'Mid-level'\n",
    "    else:\n",
    "        return 'Low-level'\n",
    "\n",
    "# Function to categorize each movie based on the highest-ranking production company\n",
    "def categorize_production_level(companies):\n",
    "    categories = [categorize_company(company) for company in companies]\n",
    "    # Define the ranking order for categories\n",
    "    rank_priority = {'Top': 3, 'Mid-level': 2, 'Low-level': 1}\n",
    "    # Get the highest rank based on priority\n",
    "    highest_category = max(categories, key=lambda x: rank_priority[x])\n",
    "    return highest_category\n",
    "\n",
    "# Apply the categorization function to the list of production companies for each movie\n",
    "movies['production_level'] = movies['production_companies'].apply(categorize_production_level)\n",
    "movies = movies.drop(columns = ['production_companies', 'release_date'])\n",
    "movies.head()"
   ],
   "metadata": {
    "collapsed": false,
    "ExecuteTime": {
     "end_time": "2024-11-11T16:50:14.059175500Z",
     "start_time": "2024-11-11T16:50:13.891878800Z"
    }
   },
   "id": "43e051d74f9eda1b"
  },
  {
   "cell_type": "code",
   "execution_count": 18,
   "outputs": [
    {
     "data": {
      "text/plain": "               production_companies   avg_revenue  movie_count  \\\n0   \"DIA\" Productions GmbH & Co. KG  4.435093e+07            1   \n1               (Colossal) Pictures  5.332167e+07            1   \n2                  11:11 Mediaworks  1.199751e+08            1   \n3              12 Gauge Productions  1.038000e+06            1   \n4                         120 Films  6.500000e+06            1   \n5                     1492 Pictures  4.261504e+08           10   \n6              16 Block Productions  6.566472e+07            1   \n7          1600 Limited Partnership  2.580471e+07            1   \n8                       2 Entertain  3.731167e+07            1   \n9                  20th Century Fox  1.415905e+08          183   \n10       20th Century Fox Animation  5.483635e+08            4   \n11          20th Century Fox Brazil  1.007603e+07            2   \n12         21 Century Shengkai Film  3.099592e+07            1   \n13            21 Laps Entertainment  3.076876e+08            3   \n14              23/5 Filmproduktion  9.996300e+04            1   \n15            25th Hour Productions  2.393206e+07            1   \n16                         26 Films  4.717504e+07            1   \n17               2929 Entertainment  2.173323e+07            1   \n18                 2929 Productions  2.750058e+07            7   \n19                  2d3D Animations  2.250160e+07            1   \n\n    log_avg_revenue  log_movie_count     score production_level  \n0          0.451488        -0.513143 -0.030827        Mid-level  \n1          0.535232        -0.513143  0.011045        Mid-level  \n2          0.903898        -0.513143  0.195377        Mid-level  \n3         -1.255512        -0.513143 -0.884328        Low-level  \n4         -0.421521        -0.513143 -0.467332        Low-level  \n5          1.480124         2.582494  2.031309        Top-level  \n6          0.629892        -0.513143  0.058374        Mid-level  \n7          0.205280        -0.513143 -0.153931        Low-level  \n8          0.372919        -0.513143 -0.070112        Low-level  \n9          0.979207         7.697932  4.338569        Top-level  \n10         1.594753         1.150741  1.372747        Top-level  \n11        -0.222238         0.223138  0.000450        Mid-level  \n12         0.288610        -0.513143 -0.112266        Low-level  \n13         1.332053         0.745537  1.038795        Top-level  \n14        -2.319419        -0.513143 -1.416281        Low-level  \n15         0.171030        -0.513143 -0.171056        Low-level  \n16         0.479552        -0.513143 -0.016795        Mid-level  \n17         0.127216        -0.513143 -0.192963        Low-level  \n18         0.234216         2.004217  1.119217        Top-level  \n19         0.143011        -0.513143 -0.185066        Low-level  ",
      "text/html": "<div>\n<style scoped>\n    .dataframe tbody tr th:only-of-type {\n        vertical-align: middle;\n    }\n\n    .dataframe tbody tr th {\n        vertical-align: top;\n    }\n\n    .dataframe thead th {\n        text-align: right;\n    }\n</style>\n<table border=\"1\" class=\"dataframe\">\n  <thead>\n    <tr style=\"text-align: right;\">\n      <th></th>\n      <th>production_companies</th>\n      <th>avg_revenue</th>\n      <th>movie_count</th>\n      <th>log_avg_revenue</th>\n      <th>log_movie_count</th>\n      <th>score</th>\n      <th>production_level</th>\n    </tr>\n  </thead>\n  <tbody>\n    <tr>\n      <th>0</th>\n      <td>\"DIA\" Productions GmbH &amp; Co. KG</td>\n      <td>4.435093e+07</td>\n      <td>1</td>\n      <td>0.451488</td>\n      <td>-0.513143</td>\n      <td>-0.030827</td>\n      <td>Mid-level</td>\n    </tr>\n    <tr>\n      <th>1</th>\n      <td>(Colossal) Pictures</td>\n      <td>5.332167e+07</td>\n      <td>1</td>\n      <td>0.535232</td>\n      <td>-0.513143</td>\n      <td>0.011045</td>\n      <td>Mid-level</td>\n    </tr>\n    <tr>\n      <th>2</th>\n      <td>11:11 Mediaworks</td>\n      <td>1.199751e+08</td>\n      <td>1</td>\n      <td>0.903898</td>\n      <td>-0.513143</td>\n      <td>0.195377</td>\n      <td>Mid-level</td>\n    </tr>\n    <tr>\n      <th>3</th>\n      <td>12 Gauge Productions</td>\n      <td>1.038000e+06</td>\n      <td>1</td>\n      <td>-1.255512</td>\n      <td>-0.513143</td>\n      <td>-0.884328</td>\n      <td>Low-level</td>\n    </tr>\n    <tr>\n      <th>4</th>\n      <td>120 Films</td>\n      <td>6.500000e+06</td>\n      <td>1</td>\n      <td>-0.421521</td>\n      <td>-0.513143</td>\n      <td>-0.467332</td>\n      <td>Low-level</td>\n    </tr>\n    <tr>\n      <th>5</th>\n      <td>1492 Pictures</td>\n      <td>4.261504e+08</td>\n      <td>10</td>\n      <td>1.480124</td>\n      <td>2.582494</td>\n      <td>2.031309</td>\n      <td>Top-level</td>\n    </tr>\n    <tr>\n      <th>6</th>\n      <td>16 Block Productions</td>\n      <td>6.566472e+07</td>\n      <td>1</td>\n      <td>0.629892</td>\n      <td>-0.513143</td>\n      <td>0.058374</td>\n      <td>Mid-level</td>\n    </tr>\n    <tr>\n      <th>7</th>\n      <td>1600 Limited Partnership</td>\n      <td>2.580471e+07</td>\n      <td>1</td>\n      <td>0.205280</td>\n      <td>-0.513143</td>\n      <td>-0.153931</td>\n      <td>Low-level</td>\n    </tr>\n    <tr>\n      <th>8</th>\n      <td>2 Entertain</td>\n      <td>3.731167e+07</td>\n      <td>1</td>\n      <td>0.372919</td>\n      <td>-0.513143</td>\n      <td>-0.070112</td>\n      <td>Low-level</td>\n    </tr>\n    <tr>\n      <th>9</th>\n      <td>20th Century Fox</td>\n      <td>1.415905e+08</td>\n      <td>183</td>\n      <td>0.979207</td>\n      <td>7.697932</td>\n      <td>4.338569</td>\n      <td>Top-level</td>\n    </tr>\n    <tr>\n      <th>10</th>\n      <td>20th Century Fox Animation</td>\n      <td>5.483635e+08</td>\n      <td>4</td>\n      <td>1.594753</td>\n      <td>1.150741</td>\n      <td>1.372747</td>\n      <td>Top-level</td>\n    </tr>\n    <tr>\n      <th>11</th>\n      <td>20th Century Fox Brazil</td>\n      <td>1.007603e+07</td>\n      <td>2</td>\n      <td>-0.222238</td>\n      <td>0.223138</td>\n      <td>0.000450</td>\n      <td>Mid-level</td>\n    </tr>\n    <tr>\n      <th>12</th>\n      <td>21 Century Shengkai Film</td>\n      <td>3.099592e+07</td>\n      <td>1</td>\n      <td>0.288610</td>\n      <td>-0.513143</td>\n      <td>-0.112266</td>\n      <td>Low-level</td>\n    </tr>\n    <tr>\n      <th>13</th>\n      <td>21 Laps Entertainment</td>\n      <td>3.076876e+08</td>\n      <td>3</td>\n      <td>1.332053</td>\n      <td>0.745537</td>\n      <td>1.038795</td>\n      <td>Top-level</td>\n    </tr>\n    <tr>\n      <th>14</th>\n      <td>23/5 Filmproduktion</td>\n      <td>9.996300e+04</td>\n      <td>1</td>\n      <td>-2.319419</td>\n      <td>-0.513143</td>\n      <td>-1.416281</td>\n      <td>Low-level</td>\n    </tr>\n    <tr>\n      <th>15</th>\n      <td>25th Hour Productions</td>\n      <td>2.393206e+07</td>\n      <td>1</td>\n      <td>0.171030</td>\n      <td>-0.513143</td>\n      <td>-0.171056</td>\n      <td>Low-level</td>\n    </tr>\n    <tr>\n      <th>16</th>\n      <td>26 Films</td>\n      <td>4.717504e+07</td>\n      <td>1</td>\n      <td>0.479552</td>\n      <td>-0.513143</td>\n      <td>-0.016795</td>\n      <td>Mid-level</td>\n    </tr>\n    <tr>\n      <th>17</th>\n      <td>2929 Entertainment</td>\n      <td>2.173323e+07</td>\n      <td>1</td>\n      <td>0.127216</td>\n      <td>-0.513143</td>\n      <td>-0.192963</td>\n      <td>Low-level</td>\n    </tr>\n    <tr>\n      <th>18</th>\n      <td>2929 Productions</td>\n      <td>2.750058e+07</td>\n      <td>7</td>\n      <td>0.234216</td>\n      <td>2.004217</td>\n      <td>1.119217</td>\n      <td>Top-level</td>\n    </tr>\n    <tr>\n      <th>19</th>\n      <td>2d3D Animations</td>\n      <td>2.250160e+07</td>\n      <td>1</td>\n      <td>0.143011</td>\n      <td>-0.513143</td>\n      <td>-0.185066</td>\n      <td>Low-level</td>\n    </tr>\n  </tbody>\n</table>\n</div>"
     },
     "execution_count": 18,
     "metadata": {},
     "output_type": "execute_result"
    }
   ],
   "source": [
    "# Step 1: Explode the 'production_companies' column and calculate average revenue and movie count\n",
    "movies_exploded = movies.explode('production_companies')\n",
    "company_stats = movies_exploded.groupby('production_companies').agg(\n",
    "    avg_revenue=('revenue', 'mean'),\n",
    "    movie_count=('production_companies', 'count')\n",
    ").reset_index()\n",
    "\n",
    "# Step 2: Apply log transformation to the revenue and movie count\n",
    "company_stats['log_avg_revenue'] = np.log1p(company_stats['avg_revenue'])  # log(1 + revenue) to avoid log(0)\n",
    "company_stats['log_movie_count'] = np.log1p(company_stats['movie_count'])  # log(1 + count) to handle 0s\n",
    "\n",
    "# Step 3: Standardize the log-transformed features to balance their scale\n",
    "scaler = StandardScaler()\n",
    "company_stats[['log_avg_revenue', 'log_movie_count']] = scaler.fit_transform(company_stats[['log_avg_revenue', 'log_movie_count']])\n",
    "\n",
    "# Step 4: Calculate the combined score based on standardized log-transformed revenue and movie count\n",
    "# Weights are adjusted for their relative importance\n",
    "alpha = 0.5  # Revenue weight\n",
    "beta = 0.5  # Movie count weight\n",
    "\n",
    "company_stats['score'] = alpha * company_stats['log_avg_revenue'] + beta * company_stats['log_movie_count']\n",
    "\n",
    "# Step 5: Rank companies based on score and assign levels\n",
    "top_threshold = company_stats['score'].quantile(0.9)  # Top 10% as top companies\n",
    "mid_threshold = company_stats['score'].quantile(0.5)  # Middle 40% as mid-level companies\n",
    "\n",
    "def classify_company(score):\n",
    "    if score >= top_threshold:\n",
    "        return 'Top-level'\n",
    "    elif score >= mid_threshold:\n",
    "        return 'Mid-level'\n",
    "    else:\n",
    "        return 'Low-level'\n",
    "\n",
    "company_stats['production_level'] = company_stats['score'].apply(classify_company)\n",
    "\n",
    "# Create a dictionary to map each company to its production level\n",
    "production_level_map = company_stats.set_index('production_companies')['production_level'].to_dict()\n",
    "\n",
    "# Step 6: Assign the highest production level to each movie's production companies\n",
    "def categorize_production_level(companies):\n",
    "    categories = [production_level_map.get(company, 'Low-level') for company in companies]\n",
    "    rank_priority = {'Top-level': 3, 'Mid-level': 2, 'Low-level': 1}\n",
    "    highest_category = max(categories, key=lambda x: rank_priority[x])\n",
    "    return highest_category\n",
    "\n",
    "movies['production_level'] = movies['production_companies'].apply(categorize_production_level)\n",
    "\n",
    "# View the top 20 companies and their production levels\n",
    "company_stats.head(20)"
   ],
   "metadata": {
    "collapsed": false,
    "ExecuteTime": {
     "end_time": "2024-11-12T23:24:52.852889100Z",
     "start_time": "2024-11-12T23:24:52.781857300Z"
    }
   },
   "id": "c9e75677a72894f"
  },
  {
   "cell_type": "markdown",
   "source": [
    "### Fitting a Linear Regression Pipeline"
   ],
   "metadata": {
    "collapsed": false
   },
   "id": "a17fec65f756ad81"
  },
  {
   "cell_type": "code",
   "execution_count": 78,
   "outputs": [],
   "source": [
    "# Step 1: Fit the MultiLabelBinarizer on the genres data (on the entire dataset)\n",
    "mlb = MultiLabelBinarizer()\n",
    "genres_encoded = mlb.fit_transform(movies['genres'])\n",
    "\n",
    "# Create a DataFrame from the encoded genres\n",
    "genres_df = pd.DataFrame(genres_encoded, columns=mlb.classes_, index=movies.index)\n",
    "\n",
    "# Concatenate the genre DataFrame with the original dataset\n",
    "movies = pd.concat([movies, genres_df], axis=1)"
   ],
   "metadata": {
    "collapsed": false,
    "ExecuteTime": {
     "end_time": "2024-11-11T16:50:14.122190400Z",
     "start_time": "2024-11-11T16:50:13.995627900Z"
    }
   },
   "id": "bbf9b04b0cf32025"
  },
  {
   "cell_type": "code",
   "execution_count": 81,
   "outputs": [
    {
     "name": "stdout",
     "output_type": "stream",
     "text": [
      "Mean Squared Error (Random Forest): 5009883888307241.0\n"
     ]
    }
   ],
   "source": [
    "movie_titles = movies['title']\n",
    "X = movies.drop(columns=['revenue', 'title', 'id', 'overview', 'reviews', 'genres'])  # Features\n",
    "y = movies['revenue']  # Target\n",
    "\n",
    "# Define the categorical and numerical columns\n",
    "categorical_cols = ['production_level']  # Only 'production_level' as a categorical variable\n",
    "numerical_cols = ['budget', 'popularity', 'vote_average', 'vote_count', 'sentiment','release_year', 'release_month', 'release_week'] + list(mlb.classes_)\n",
    "\n",
    "# Define the preprocessing steps\n",
    "preprocessor = ColumnTransformer(\n",
    "    transformers=[\n",
    "        ('num', StandardScaler(), numerical_cols),  # Scale numeric features\n",
    "        ('cat', OneHotEncoder(), categorical_cols),  # One-hot encode categorical features\n",
    "    ])\n",
    "\n",
    "# Define the model pipeline\n",
    "model = Pipeline(steps=[\n",
    "    ('preprocessor', preprocessor),\n",
    "    ('regressor', RandomForestRegressor(n_estimators=100, random_state=42))\n",
    "])\n",
    "\n",
    "# Split the data into training and testing sets\n",
    "X_train, X_test, y_train, y_test = train_test_split(X, y, test_size=0.2, random_state=42)\n",
    "\n",
    "# Fit the pipeline to the training data\n",
    "model.fit(X_train, y_train)\n",
    "\n",
    "# Predict on the test set\n",
    "y_pred = model.predict(X_test)\n",
    "\n",
    "# Calculate Mean Squared Error\n",
    "mse = mean_squared_error(y_test, y_pred)  \n",
    "\n",
    "print(f'Mean Squared Error (Random Forest): {mse}')"
   ],
   "metadata": {
    "collapsed": false,
    "ExecuteTime": {
     "end_time": "2024-11-11T16:50:58.181998800Z",
     "start_time": "2024-11-11T16:50:56.216106600Z"
    }
   },
   "id": "823e1bc0815febc6"
  }
 ],
 "metadata": {
  "kernelspec": {
   "display_name": "Python 3",
   "language": "python",
   "name": "python3"
  },
  "language_info": {
   "codemirror_mode": {
    "name": "ipython",
    "version": 2
   },
   "file_extension": ".py",
   "mimetype": "text/x-python",
   "name": "python",
   "nbconvert_exporter": "python",
   "pygments_lexer": "ipython2",
   "version": "2.7.6"
  }
 },
 "nbformat": 4,
 "nbformat_minor": 5
}
