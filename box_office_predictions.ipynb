{
 "cells": [
  {
   "cell_type": "code",
   "execution_count": 4,
   "id": "initial_id",
   "metadata": {
    "collapsed": true,
    "ExecuteTime": {
     "end_time": "2024-10-07T23:59:23.709404600Z",
     "start_time": "2024-10-07T23:59:23.597139600Z"
    }
   },
   "outputs": [],
   "source": [
    "import numpy as np\n",
    "import matplotlib.pyplot as plt\n",
    "import matplotlib.gridspec as gridspec\n",
    "import pandas as pd\n",
    "from sklearn import datasets\n",
    "from sklearn.model_selection import train_test_split\n",
    "from sklearn.preprocessing import StandardScaler\n",
    "from sklearn.metrics import accuracy_score\n",
    "from matplotlib.colors import ListedColormap\n",
    "from sklearn.svm import SVC\n",
    "from sklearn.ensemble import GradientBoostingClassifier\n",
    "from scipy.stats import t, sem\n",
    "from vaderSentiment.vaderSentiment import SentimentIntensityAnalyzer"
   ]
  },
  {
   "cell_type": "code",
   "execution_count": 7,
   "outputs": [],
   "source": [
    "movies_df = pd.read_csv('movies.csv')"
   ],
   "metadata": {
    "collapsed": false,
    "ExecuteTime": {
     "end_time": "2024-10-08T00:04:10.050884100Z",
     "start_time": "2024-10-08T00:04:09.901629600Z"
    }
   },
   "id": "fb3be7547e4e1d68"
  },
  {
   "cell_type": "code",
   "execution_count": 12,
   "outputs": [],
   "source": [
    "analyzer = SentimentIntensityAnalyzer()\n",
    "\n",
    "def get_vader_score(text):\n",
    "    if text != 'No reviews available': # If there is actually a review\n",
    "        return analyzer.polarity_scores(text)['compound']\n",
    "    else:\n",
    "        return 0 \n",
    "\n",
    "movies_df['sentiment'] = movies_df['reviews'].apply(get_vader_score)"
   ],
   "metadata": {
    "collapsed": false,
    "ExecuteTime": {
     "end_time": "2024-10-08T00:08:41.891929700Z",
     "start_time": "2024-10-08T00:08:14.215398400Z"
    }
   },
   "id": "f3d44d8426c86cac"
  },
  {
   "cell_type": "code",
   "execution_count": 20,
   "outputs": [
    {
     "data": {
      "text/plain": "        id                             title release_date    revenue  \\\n0        2                             Ariel   1988-10-21          0   \n1        3               Shadows in Paradise   1986-10-17          0   \n2        5                        Four Rooms   1995-12-09    4257354   \n3        6                    Judgment Night   1993-10-15   12136938   \n4        8  Life in Loops (A Megacities RMX)   2006-01-01          0   \n...    ...                               ...          ...        ...   \n3357  5994                    The Family Man   2000-12-12  124700000   \n3358  5995                             Miffo   2003-07-31          0   \n3359  5996                   We're No Angels   1955-07-07    3000000   \n3360  5998           Dr. Mabuse, the Gambler   1922-04-27          0   \n3361  5999                    Charley's Aunt   1956-01-19          0   \n\n        budget                               production_companies  \\\n0            0                          Villealfa Filmproductions   \n1            0                          Villealfa Filmproductions   \n2      4000000                              Miramax, A Band Apart   \n3     21000000       Largo Entertainment, JVC, Universal Pictures   \n4        42000                                            inLoops   \n...        ...                                                ...   \n3357  60000000  Beacon Pictures, Saturn Films, Universal Pictures   \n3358         0                               Film i Väst, Hägring   \n3359         0                                 Paramount Pictures   \n3360         0                                      Uco-Film GmbH   \n3361         0                            Imperial-Filmproduktion   \n\n                               genres  popularity  vote_average  vote_count  \\\n0       Comedy, Drama, Romance, Crime      26.263         7.118         331   \n1              Comedy, Drama, Romance       6.004         7.301         392   \n2                              Comedy      15.300         5.846        2618   \n3             Action, Crime, Thriller      22.862         6.500         331   \n4                         Documentary       2.925         7.300          28   \n...                               ...         ...           ...         ...   \n3357  Comedy, Drama, Romance, Fantasy      32.763         6.799        1919   \n3358                    Comedy, Drama       4.817         5.000          23   \n3359                    Comedy, Crime      16.345         7.175         169   \n3360                  Crime, Thriller      14.896         7.600         184   \n3361                           Comedy       3.669         5.300           8   \n\n                                               overview  \\\n0     After the coal mine he works at closes and his...   \n1     Nikander, a rubbish collector and would-be ent...   \n2     It's Ted the Bellhop's first night on the job....   \n3     Four young friends, while taking a shortcut en...   \n4     Timo Novotny labels his new project an experim...   \n...                                                 ...   \n3357  Jack's lavish, fast-paced lifestyle changes on...   \n3358  Tobias is the new, idealistic priest in a subu...   \n3359  Three convicts escape from prison on Devil's I...   \n3360  Dr. Mabuse and his organization of criminals a...   \n3361  Otto Dernburg is forced by circumstances to dr...   \n\n                                                reviews  sentiment  \n0                                  No reviews available     0.0000  \n1     Released in 1986, Aki Kaurismaki's <i>Varjoja ...     0.9538  \n2                                  No reviews available     0.0000  \n3                                  No reviews available     0.0000  \n4                                  No reviews available     0.0000  \n...                                                 ...        ...  \n3357                               No reviews available     0.0000  \n3358                               No reviews available     0.0000  \n3359  Who says Bogart couldn't do comedy?\\r\\n\\r\\nJos...     0.9814  \n3360                               No reviews available     0.0000  \n3361                               No reviews available     0.0000  \n\n[3362 rows x 13 columns]",
      "text/html": "<div>\n<style scoped>\n    .dataframe tbody tr th:only-of-type {\n        vertical-align: middle;\n    }\n\n    .dataframe tbody tr th {\n        vertical-align: top;\n    }\n\n    .dataframe thead th {\n        text-align: right;\n    }\n</style>\n<table border=\"1\" class=\"dataframe\">\n  <thead>\n    <tr style=\"text-align: right;\">\n      <th></th>\n      <th>id</th>\n      <th>title</th>\n      <th>release_date</th>\n      <th>revenue</th>\n      <th>budget</th>\n      <th>production_companies</th>\n      <th>genres</th>\n      <th>popularity</th>\n      <th>vote_average</th>\n      <th>vote_count</th>\n      <th>overview</th>\n      <th>reviews</th>\n      <th>sentiment</th>\n    </tr>\n  </thead>\n  <tbody>\n    <tr>\n      <th>0</th>\n      <td>2</td>\n      <td>Ariel</td>\n      <td>1988-10-21</td>\n      <td>0</td>\n      <td>0</td>\n      <td>Villealfa Filmproductions</td>\n      <td>Comedy, Drama, Romance, Crime</td>\n      <td>26.263</td>\n      <td>7.118</td>\n      <td>331</td>\n      <td>After the coal mine he works at closes and his...</td>\n      <td>No reviews available</td>\n      <td>0.0000</td>\n    </tr>\n    <tr>\n      <th>1</th>\n      <td>3</td>\n      <td>Shadows in Paradise</td>\n      <td>1986-10-17</td>\n      <td>0</td>\n      <td>0</td>\n      <td>Villealfa Filmproductions</td>\n      <td>Comedy, Drama, Romance</td>\n      <td>6.004</td>\n      <td>7.301</td>\n      <td>392</td>\n      <td>Nikander, a rubbish collector and would-be ent...</td>\n      <td>Released in 1986, Aki Kaurismaki's &lt;i&gt;Varjoja ...</td>\n      <td>0.9538</td>\n    </tr>\n    <tr>\n      <th>2</th>\n      <td>5</td>\n      <td>Four Rooms</td>\n      <td>1995-12-09</td>\n      <td>4257354</td>\n      <td>4000000</td>\n      <td>Miramax, A Band Apart</td>\n      <td>Comedy</td>\n      <td>15.300</td>\n      <td>5.846</td>\n      <td>2618</td>\n      <td>It's Ted the Bellhop's first night on the job....</td>\n      <td>No reviews available</td>\n      <td>0.0000</td>\n    </tr>\n    <tr>\n      <th>3</th>\n      <td>6</td>\n      <td>Judgment Night</td>\n      <td>1993-10-15</td>\n      <td>12136938</td>\n      <td>21000000</td>\n      <td>Largo Entertainment, JVC, Universal Pictures</td>\n      <td>Action, Crime, Thriller</td>\n      <td>22.862</td>\n      <td>6.500</td>\n      <td>331</td>\n      <td>Four young friends, while taking a shortcut en...</td>\n      <td>No reviews available</td>\n      <td>0.0000</td>\n    </tr>\n    <tr>\n      <th>4</th>\n      <td>8</td>\n      <td>Life in Loops (A Megacities RMX)</td>\n      <td>2006-01-01</td>\n      <td>0</td>\n      <td>42000</td>\n      <td>inLoops</td>\n      <td>Documentary</td>\n      <td>2.925</td>\n      <td>7.300</td>\n      <td>28</td>\n      <td>Timo Novotny labels his new project an experim...</td>\n      <td>No reviews available</td>\n      <td>0.0000</td>\n    </tr>\n    <tr>\n      <th>...</th>\n      <td>...</td>\n      <td>...</td>\n      <td>...</td>\n      <td>...</td>\n      <td>...</td>\n      <td>...</td>\n      <td>...</td>\n      <td>...</td>\n      <td>...</td>\n      <td>...</td>\n      <td>...</td>\n      <td>...</td>\n      <td>...</td>\n    </tr>\n    <tr>\n      <th>3357</th>\n      <td>5994</td>\n      <td>The Family Man</td>\n      <td>2000-12-12</td>\n      <td>124700000</td>\n      <td>60000000</td>\n      <td>Beacon Pictures, Saturn Films, Universal Pictures</td>\n      <td>Comedy, Drama, Romance, Fantasy</td>\n      <td>32.763</td>\n      <td>6.799</td>\n      <td>1919</td>\n      <td>Jack's lavish, fast-paced lifestyle changes on...</td>\n      <td>No reviews available</td>\n      <td>0.0000</td>\n    </tr>\n    <tr>\n      <th>3358</th>\n      <td>5995</td>\n      <td>Miffo</td>\n      <td>2003-07-31</td>\n      <td>0</td>\n      <td>0</td>\n      <td>Film i Väst, Hägring</td>\n      <td>Comedy, Drama</td>\n      <td>4.817</td>\n      <td>5.000</td>\n      <td>23</td>\n      <td>Tobias is the new, idealistic priest in a subu...</td>\n      <td>No reviews available</td>\n      <td>0.0000</td>\n    </tr>\n    <tr>\n      <th>3359</th>\n      <td>5996</td>\n      <td>We're No Angels</td>\n      <td>1955-07-07</td>\n      <td>3000000</td>\n      <td>0</td>\n      <td>Paramount Pictures</td>\n      <td>Comedy, Crime</td>\n      <td>16.345</td>\n      <td>7.175</td>\n      <td>169</td>\n      <td>Three convicts escape from prison on Devil's I...</td>\n      <td>Who says Bogart couldn't do comedy?\\r\\n\\r\\nJos...</td>\n      <td>0.9814</td>\n    </tr>\n    <tr>\n      <th>3360</th>\n      <td>5998</td>\n      <td>Dr. Mabuse, the Gambler</td>\n      <td>1922-04-27</td>\n      <td>0</td>\n      <td>0</td>\n      <td>Uco-Film GmbH</td>\n      <td>Crime, Thriller</td>\n      <td>14.896</td>\n      <td>7.600</td>\n      <td>184</td>\n      <td>Dr. Mabuse and his organization of criminals a...</td>\n      <td>No reviews available</td>\n      <td>0.0000</td>\n    </tr>\n    <tr>\n      <th>3361</th>\n      <td>5999</td>\n      <td>Charley's Aunt</td>\n      <td>1956-01-19</td>\n      <td>0</td>\n      <td>0</td>\n      <td>Imperial-Filmproduktion</td>\n      <td>Comedy</td>\n      <td>3.669</td>\n      <td>5.300</td>\n      <td>8</td>\n      <td>Otto Dernburg is forced by circumstances to dr...</td>\n      <td>No reviews available</td>\n      <td>0.0000</td>\n    </tr>\n  </tbody>\n</table>\n<p>3362 rows × 13 columns</p>\n</div>"
     },
     "execution_count": 20,
     "metadata": {},
     "output_type": "execute_result"
    }
   ],
   "source": [
    "movies_df"
   ],
   "metadata": {
    "collapsed": false,
    "ExecuteTime": {
     "end_time": "2024-10-08T00:13:27.834884600Z",
     "start_time": "2024-10-08T00:13:27.771806900Z"
    }
   },
   "id": "560291ff13c2277d"
  }
 ],
 "metadata": {
  "kernelspec": {
   "display_name": "Python 3",
   "language": "python",
   "name": "python3"
  },
  "language_info": {
   "codemirror_mode": {
    "name": "ipython",
    "version": 2
   },
   "file_extension": ".py",
   "mimetype": "text/x-python",
   "name": "python",
   "nbconvert_exporter": "python",
   "pygments_lexer": "ipython2",
   "version": "2.7.6"
  }
 },
 "nbformat": 4,
 "nbformat_minor": 5
}
